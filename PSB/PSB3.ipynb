{
 "cells": [
  {
   "cell_type": "markdown",
   "source": [
    "# Lagrange Points\r\n",
    "## Given: \r\n",
    "Locations of the equilibrium points in any 3-body system is $\\bar{\\triangledown}U^* = \\bar{0}$\r\n",
    "## Find:\r\n",
    "a) Solve using the Newton-Rhapson for $L_1$:\r\n",
    "1. Sun-Earth\r\n",
    "2. Earth-Moon\r\n",
    "3. Saturn-Titan\r\n",
    "4. Jupiter-Europa\r\n",
    "5. Pluto-Charon\r\n",
    "\r\n",
    "b) Do the same for $L_2$ and $L_3$"
   ],
   "metadata": {}
  },
  {
   "cell_type": "code",
   "execution_count": 2,
   "source": [
    "# Import Functions and basic infor\r\n",
    "import sys\r\n",
    "sys.path.append('../')\r\n",
    "from Functions.Universe import Solar_S as SS\r\n",
    "from Functions.Universe import G\r\n",
    "from Functions.Universe import Solar_3 as SS3\r\n",
    "from Functions import Keplarian_fnc as kp\r\n",
    "from Functions import Poincare_fnc as pn\r\n",
    "import numpy as np\r\n",
    "import pandas as pd\r\n",
    "import matplotlib.pyplot as plt"
   ],
   "outputs": [],
   "metadata": {}
  },
  {
   "cell_type": "markdown",
   "source": [
    "### Part a)"
   ],
   "metadata": {}
  },
  {
   "cell_type": "code",
   "execution_count": 3,
   "source": [
    "systems = ['Sun-Earth', 'Earth-Moon', 'Saturn-Titan', 'Jupiter-Europa', 'Pluto-Charon']\r\n",
    "L2_point = np.zeros((4,len(systems)))\r\n",
    "\r\n",
    "for i, system in enumerate(systems):\r\n",
    "    gamma2, L2, = pn.L2_Newton(SS3.loc[system,'miu'],  0.01, SS3.loc[system,'d1'])\r\n",
    "    gamma2_dim = pn.L_2_dim(gamma2, SS3.loc[system,'l*'])\r\n",
    "    L2_dim = pn.L_2_dim(L2, SS3.loc[system,'l*'])\r\n",
    "    L2_point[:,i] = [gamma2, L2, gamma2_dim, L2_dim]\r\n",
    "    \r\n",
    "pd.DataFrame(L2_point.T, columns=['gamma_2 (-)', 'L_2 (-)', 'gamma_2 (km)', 'L_2 (km)'], \r\n",
    "             index=systems)"
   ],
   "outputs": [
    {
     "output_type": "execute_result",
     "data": {
      "text/html": [
       "<div>\n",
       "<style scoped>\n",
       "    .dataframe tbody tr th:only-of-type {\n",
       "        vertical-align: middle;\n",
       "    }\n",
       "\n",
       "    .dataframe tbody tr th {\n",
       "        vertical-align: top;\n",
       "    }\n",
       "\n",
       "    .dataframe thead th {\n",
       "        text-align: right;\n",
       "    }\n",
       "</style>\n",
       "<table border=\"1\" class=\"dataframe\">\n",
       "  <thead>\n",
       "    <tr style=\"text-align: right;\">\n",
       "      <th></th>\n",
       "      <th>gamma_2 (-)</th>\n",
       "      <th>L_2 (-)</th>\n",
       "      <th>gamma_2 (km)</th>\n",
       "      <th>L_2 (km)</th>\n",
       "    </tr>\n",
       "  </thead>\n",
       "  <tbody>\n",
       "    <tr>\n",
       "      <th>Sun-Earth</th>\n",
       "      <td>0.010037</td>\n",
       "      <td>0.010040</td>\n",
       "      <td>1.501532e+06</td>\n",
       "      <td>1.501981e+06</td>\n",
       "    </tr>\n",
       "    <tr>\n",
       "      <th>Earth-Moon</th>\n",
       "      <td>0.167833</td>\n",
       "      <td>0.179983</td>\n",
       "      <td>6.451491e+04</td>\n",
       "      <td>6.918560e+04</td>\n",
       "    </tr>\n",
       "    <tr>\n",
       "      <th>Saturn-Titan</th>\n",
       "      <td>0.043419</td>\n",
       "      <td>0.043655</td>\n",
       "      <td>5.305258e+04</td>\n",
       "      <td>5.334028e+04</td>\n",
       "    </tr>\n",
       "    <tr>\n",
       "      <th>Jupiter-Europa</th>\n",
       "      <td>0.020452</td>\n",
       "      <td>0.020478</td>\n",
       "      <td>1.372563e+04</td>\n",
       "      <td>1.374251e+04</td>\n",
       "    </tr>\n",
       "    <tr>\n",
       "      <th>Pluto-Charon</th>\n",
       "      <td>0.352405</td>\n",
       "      <td>0.447128</td>\n",
       "      <td>6.179782e+03</td>\n",
       "      <td>7.840838e+03</td>\n",
       "    </tr>\n",
       "  </tbody>\n",
       "</table>\n",
       "</div>"
      ],
      "text/plain": [
       "                gamma_2 (-)   L_2 (-)  gamma_2 (km)      L_2 (km)\n",
       "Sun-Earth          0.010037  0.010040  1.501532e+06  1.501981e+06\n",
       "Earth-Moon         0.167833  0.179983  6.451491e+04  6.918560e+04\n",
       "Saturn-Titan       0.043419  0.043655  5.305258e+04  5.334028e+04\n",
       "Jupiter-Europa     0.020452  0.020478  1.372563e+04  1.374251e+04\n",
       "Pluto-Charon       0.352405  0.447128  6.179782e+03  7.840838e+03"
      ]
     },
     "metadata": {},
     "execution_count": 3
    }
   ],
   "metadata": {}
  },
  {
   "cell_type": "markdown",
   "source": [
    "### Part b)"
   ],
   "metadata": {}
  },
  {
   "cell_type": "code",
   "execution_count": 4,
   "source": [
    "L1_point = np.zeros((4,len(systems)))\r\n",
    "L3_point = np.zeros((4,len(systems)))\r\n",
    "\r\n",
    "for i, system in enumerate(systems):\r\n",
    "    gamma1, L1, = pn.L1_Newton(SS3.loc[system,'miu'],  0.01)\r\n",
    "    gamma1_dim = pn.L_2_dim(gamma1, SS3.loc[system,'l*'])\r\n",
    "    L1_dim = pn.L_2_dim(L1, SS3.loc[system,'l*'])\r\n",
    "    L1_point[:,i] = [gamma1, L1, gamma1_dim, L1_dim]\r\n",
    "    \r\n",
    "    gamma3, L3, = pn.L3_Newton(SS3.loc[system,'miu'],  0.9, SS3.loc[system, 'd1'])\r\n",
    "    gamma3_dim = pn.L_2_dim(gamma3, SS3.loc[system,'l*'])\r\n",
    "    L3_dim = pn.L_2_dim(L3, SS3.loc[system,'l*'])\r\n",
    "    L3_point[:,i] = [gamma3, L3, gamma3_dim, L3_dim]\r\n",
    "    \r\n",
    "    \r\n",
    "print(pd.DataFrame(L1_point.T, columns=['gamma_1 (-)', 'L_1 (-)', 'gamma_1 (km)', 'L_1 (km)'], \r\n",
    "             index=systems))\r\n",
    "print(\"\\n\")\r\n",
    "print(pd.DataFrame(L3_point.T, columns=['gamma_1 (-)', 'L_1 (-)', 'gamma_1 (km)', 'L_1 (km)'], \r\n",
    "             index=systems))"
   ],
   "outputs": [
    {
     "output_type": "stream",
     "name": "stdout",
     "text": [
      "                gamma_1 (-)   L_1 (-)  gamma_1 (km)      L_1 (km)\n",
      "Sun-Earth          0.010037  1.010037  1.501532e+06  1.510994e+08\n",
      "Earth-Moon         0.167833  1.167833  6.451491e+04  4.489149e+05\n",
      "Saturn-Titan       0.043419  1.043419  5.305258e+04  1.274918e+06\n",
      "Jupiter-Europa     0.020452  1.020452  1.372563e+04  6.848256e+05\n",
      "Pluto-Charon       0.352405  1.352405  6.179782e+03  2.371578e+04\n",
      "\n",
      "\n",
      "                gamma_1 (-)   L_1 (-)  gamma_1 (km)      L_1 (km)\n",
      "Sun-Earth         -0.941060 -0.941057 -1.407805e+08 -1.407801e+08\n",
      "Earth-Moon        -0.849061 -0.836911 -3.263791e+05 -3.217085e+05\n",
      "Saturn-Titan      -0.937026 -0.936791 -1.144920e+06 -1.144632e+06\n",
      "Jupiter-Europa    -0.940665 -0.940640 -6.312803e+05 -6.312634e+05\n",
      "Pluto-Charon      -0.713890 -0.619167 -1.251877e+04 -1.085772e+04\n"
     ]
    }
   ],
   "metadata": {}
  }
 ],
 "metadata": {
  "orig_nbformat": 4,
  "language_info": {
   "name": "python",
   "version": "3.9.7",
   "mimetype": "text/x-python",
   "codemirror_mode": {
    "name": "ipython",
    "version": 3
   },
   "pygments_lexer": "ipython3",
   "nbconvert_exporter": "python",
   "file_extension": ".py"
  },
  "kernelspec": {
   "name": "python3",
   "display_name": "Python 3.9.7 64-bit (windows store)"
  },
  "interpreter": {
   "hash": "992be081e26f37b6ab964febf09ff52cfb4040396eba6f24146958eb15544b29"
  }
 },
 "nbformat": 4,
 "nbformat_minor": 2
}