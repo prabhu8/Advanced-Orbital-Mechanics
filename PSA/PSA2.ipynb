{
 "cells": [
  {
   "cell_type": "markdown",
   "source": [
    "# A2 \r\n",
    "Geometric Solution to the 2-body problem\r\n",
    "\r\n",
    "## Find:\r\n",
    "\r\n",
    "a) Expression in terms of $\\hat{\\theta}$ and $\\hat{p}$ add sketch of various vectors.\r\n",
    "\r\n",
    "b) i) $\\hat{p}$ in the hodograph\r\n",
    "\r\n",
    "ii) Mark constant components from (a)\r\n",
    "\r\n",
    "iii) Sketch the hodograph in $\\hat{e}$ and $\\hat{p}$; add $\\gamma$ and $\\theta^*$, orbit unit vectors, e\r\n",
    "\r\n",
    "c) Assume e = 0.5\r\n",
    "\r\n",
    "i) Max values of $\\gamma$ on "
   ],
   "metadata": {}
  },
  {
   "cell_type": "code",
   "execution_count": null,
   "source": [],
   "outputs": [],
   "metadata": {}
  }
 ],
 "metadata": {
  "orig_nbformat": 4,
  "language_info": {
   "name": "python",
   "version": "3.9.7"
  },
  "kernelspec": {
   "name": "python3",
   "display_name": "Python 3.9.7 64-bit (windows store)"
  },
  "interpreter": {
   "hash": "992be081e26f37b6ab964febf09ff52cfb4040396eba6f24146958eb15544b29"
  }
 },
 "nbformat": 4,
 "nbformat_minor": 2
}