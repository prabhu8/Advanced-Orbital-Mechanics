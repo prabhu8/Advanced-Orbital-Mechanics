{
 "cells": [
  {
   "cell_type": "markdown",
   "source": [
    "# A3\r\n",
    "\r\n",
    "## Given:\r\n",
    "a = 14 $R_{Earth}$, e = 0.925\r\n",
    "\r\n",
    "## Find:\r\n",
    "a) Eccentric Anomaly ($E$) for 20 values of mean anomalies ($M$), $E_0$ = M for first guess. Reuiqred accuracy is $|\\Delta E| < 10^{-12}| radians$\r\n",
    "\r\n",
    "b) Time history of $\\theta^*$, $E$, $M$ for the orbit. \r\n",
    "\r\n",
    "i) What point are the angles equal? \r\n",
    "\r\n",
    "ii) Max and Min slope of each? What does it mean?\r\n",
    "\r\n",
    "c) Plot r as a function of all of these. Are the curves the same? Why?"
   ],
   "metadata": {}
  },
  {
   "cell_type": "code",
   "execution_count": 1,
   "source": [
    "#Import Functions and basic infor\r\n",
    "import sys\r\n",
    "sys.path.append('../')\r\n",
    "from Functions.Universe import Solar_S as SS\r\n",
    "from Functions import Keplarian_fnc as kp\r\n",
    "import numpy as np\r\n",
    "import pandas as pd"
   ],
   "outputs": [],
   "metadata": {}
  },
  {
   "cell_type": "code",
   "execution_count": 2,
   "source": [
    "# Given\r\n",
    "a = 14*SS.loc['Earth','a']\r\n",
    "e = 0.925"
   ],
   "outputs": [],
   "metadata": {}
  },
  {
   "cell_type": "code",
   "execution_count": 6,
   "source": [
    "step = np.pi/10\r\n",
    "M = np.arange(0,np.pi*2+step, step=step, )\r\n",
    "E = [for m in M: kp.E_M(m, e, acc = 10^-12) ]\r\n",
    "E"
   ],
   "outputs": [
    {
     "output_type": "error",
     "ename": "SyntaxError",
     "evalue": "invalid syntax (Temp/ipykernel_1580/2238820410.py, line 3)",
     "traceback": [
      "\u001b[1;36m  File \u001b[1;32m\"C:\\Users\\Sushr\\AppData\\Local\\Temp/ipykernel_1580/2238820410.py\"\u001b[1;36m, line \u001b[1;32m3\u001b[0m\n\u001b[1;33m    E = [for m in M: kp.E_M(m, e, acc = 10^-12) ]\u001b[0m\n\u001b[1;37m         ^\u001b[0m\n\u001b[1;31mSyntaxError\u001b[0m\u001b[1;31m:\u001b[0m invalid syntax\n"
     ]
    }
   ],
   "metadata": {}
  },
  {
   "cell_type": "code",
   "execution_count": null,
   "source": [],
   "outputs": [],
   "metadata": {}
  }
 ],
 "metadata": {
  "orig_nbformat": 4,
  "language_info": {
   "name": "python",
   "version": "3.9.7",
   "mimetype": "text/x-python",
   "codemirror_mode": {
    "name": "ipython",
    "version": 3
   },
   "pygments_lexer": "ipython3",
   "nbconvert_exporter": "python",
   "file_extension": ".py"
  },
  "kernelspec": {
   "name": "python3",
   "display_name": "Python 3.9.7 64-bit (windows store)"
  },
  "interpreter": {
   "hash": "992be081e26f37b6ab964febf09ff52cfb4040396eba6f24146958eb15544b29"
  }
 },
 "nbformat": 4,
 "nbformat_minor": 2
}