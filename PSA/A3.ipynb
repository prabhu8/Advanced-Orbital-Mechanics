{
 "cells": [
  {
   "cell_type": "markdown",
   "source": [
    "# A3\r\n",
    "\r\n",
    "## Given:\r\n",
    "a = 14 $R_{Earth}$, e = 0.925\r\n",
    "\r\n",
    "## Find:\r\n",
    "a) Eccentric Anomaly ($E$) for 20 values of mean anomalies ($M$), $E_0$ = M for first guess. Reuiqred accuracy is $|\\Delta E| < 10^{-12}| radians$\r\n",
    "\r\n",
    "b) Time history of $\\theta^*$, $E$, $M$ for the orbit. \r\n",
    "\r\n",
    "i) What point are the angles equal? \r\n",
    "\r\n",
    "ii) Max and Min slope of each? What does it mean?\r\n",
    "\r\n",
    "c) Plot r as a function of all of these. Are the curves the same? Why?"
   ],
   "metadata": {}
  },
  {
   "cell_type": "code",
   "execution_count": 1,
   "source": [
    "# Import Functions and basic infor\r\n",
    "import sys\r\n",
    "sys.path.append('../')\r\n",
    "from Functions.Universe import Solar_S as SS\r\n",
    "from Functions import Keplarian_fnc as kp\r\n",
    "import numpy as np\r\n",
    "import pandas as pd\r\n",
    "import matplotlib.pyplot as plt\r\n",
    "import math "
   ],
   "outputs": [],
   "metadata": {}
  },
  {
   "cell_type": "code",
   "execution_count": 2,
   "source": [
    "# Given\r\n",
    "a = 14*SS.loc['Earth','r']\r\n",
    "e = 0.925"
   ],
   "outputs": [],
   "metadata": {}
  },
  {
   "cell_type": "code",
   "execution_count": 3,
   "source": [
    "step = np.pi/10\r\n",
    "M = np.arange(0,np.pi*2+step, step=step )\r\n",
    "E = [kp.E_M(m, e, acc = 10**-12, n_count = True) for m in M]\r\n"
   ],
   "outputs": [],
   "metadata": {}
  },
  {
   "cell_type": "code",
   "execution_count": 4,
   "source": [
    "df_M = pd.DataFrame(np.rad2deg(M),columns=['M (deg)'])\r\n",
    "df_E = pd.concat([df_M, pd.DataFrame(E,columns=['E (deg)','Iterations'])], axis=1)\r\n",
    "df_E['E (deg)'] = np.rad2deg(df_E['E (deg)'])\r\n",
    "round(df_E,2)"
   ],
   "outputs": [
    {
     "output_type": "execute_result",
     "data": {
      "text/html": [
       "<div>\n",
       "<style scoped>\n",
       "    .dataframe tbody tr th:only-of-type {\n",
       "        vertical-align: middle;\n",
       "    }\n",
       "\n",
       "    .dataframe tbody tr th {\n",
       "        vertical-align: top;\n",
       "    }\n",
       "\n",
       "    .dataframe thead th {\n",
       "        text-align: right;\n",
       "    }\n",
       "</style>\n",
       "<table border=\"1\" class=\"dataframe\">\n",
       "  <thead>\n",
       "    <tr style=\"text-align: right;\">\n",
       "      <th></th>\n",
       "      <th>M (deg)</th>\n",
       "      <th>E (deg)</th>\n",
       "      <th>Iterations</th>\n",
       "    </tr>\n",
       "  </thead>\n",
       "  <tbody>\n",
       "    <tr>\n",
       "      <th>0</th>\n",
       "      <td>0.0</td>\n",
       "      <td>0.00</td>\n",
       "      <td>1</td>\n",
       "    </tr>\n",
       "    <tr>\n",
       "      <th>1</th>\n",
       "      <td>18.0</td>\n",
       "      <td>66.66</td>\n",
       "      <td>8</td>\n",
       "    </tr>\n",
       "    <tr>\n",
       "      <th>2</th>\n",
       "      <td>36.0</td>\n",
       "      <td>88.99</td>\n",
       "      <td>7</td>\n",
       "    </tr>\n",
       "    <tr>\n",
       "      <th>3</th>\n",
       "      <td>54.0</td>\n",
       "      <td>105.16</td>\n",
       "      <td>7</td>\n",
       "    </tr>\n",
       "    <tr>\n",
       "      <th>4</th>\n",
       "      <td>72.0</td>\n",
       "      <td>118.55</td>\n",
       "      <td>6</td>\n",
       "    </tr>\n",
       "    <tr>\n",
       "      <th>5</th>\n",
       "      <td>90.0</td>\n",
       "      <td>130.38</td>\n",
       "      <td>6</td>\n",
       "    </tr>\n",
       "    <tr>\n",
       "      <th>6</th>\n",
       "      <td>108.0</td>\n",
       "      <td>141.21</td>\n",
       "      <td>5</td>\n",
       "    </tr>\n",
       "    <tr>\n",
       "      <th>7</th>\n",
       "      <td>126.0</td>\n",
       "      <td>151.38</td>\n",
       "      <td>5</td>\n",
       "    </tr>\n",
       "    <tr>\n",
       "      <th>8</th>\n",
       "      <td>144.0</td>\n",
       "      <td>161.14</td>\n",
       "      <td>5</td>\n",
       "    </tr>\n",
       "    <tr>\n",
       "      <th>9</th>\n",
       "      <td>162.0</td>\n",
       "      <td>170.63</td>\n",
       "      <td>4</td>\n",
       "    </tr>\n",
       "    <tr>\n",
       "      <th>10</th>\n",
       "      <td>180.0</td>\n",
       "      <td>180.00</td>\n",
       "      <td>1</td>\n",
       "    </tr>\n",
       "    <tr>\n",
       "      <th>11</th>\n",
       "      <td>198.0</td>\n",
       "      <td>189.37</td>\n",
       "      <td>4</td>\n",
       "    </tr>\n",
       "    <tr>\n",
       "      <th>12</th>\n",
       "      <td>216.0</td>\n",
       "      <td>198.86</td>\n",
       "      <td>5</td>\n",
       "    </tr>\n",
       "    <tr>\n",
       "      <th>13</th>\n",
       "      <td>234.0</td>\n",
       "      <td>208.62</td>\n",
       "      <td>5</td>\n",
       "    </tr>\n",
       "    <tr>\n",
       "      <th>14</th>\n",
       "      <td>252.0</td>\n",
       "      <td>218.79</td>\n",
       "      <td>5</td>\n",
       "    </tr>\n",
       "    <tr>\n",
       "      <th>15</th>\n",
       "      <td>270.0</td>\n",
       "      <td>229.62</td>\n",
       "      <td>6</td>\n",
       "    </tr>\n",
       "    <tr>\n",
       "      <th>16</th>\n",
       "      <td>288.0</td>\n",
       "      <td>241.45</td>\n",
       "      <td>6</td>\n",
       "    </tr>\n",
       "    <tr>\n",
       "      <th>17</th>\n",
       "      <td>306.0</td>\n",
       "      <td>254.84</td>\n",
       "      <td>7</td>\n",
       "    </tr>\n",
       "    <tr>\n",
       "      <th>18</th>\n",
       "      <td>324.0</td>\n",
       "      <td>271.01</td>\n",
       "      <td>7</td>\n",
       "    </tr>\n",
       "    <tr>\n",
       "      <th>19</th>\n",
       "      <td>342.0</td>\n",
       "      <td>293.34</td>\n",
       "      <td>8</td>\n",
       "    </tr>\n",
       "    <tr>\n",
       "      <th>20</th>\n",
       "      <td>360.0</td>\n",
       "      <td>360.00</td>\n",
       "      <td>1</td>\n",
       "    </tr>\n",
       "  </tbody>\n",
       "</table>\n",
       "</div>"
      ],
      "text/plain": [
       "    M (deg)  E (deg)  Iterations\n",
       "0       0.0     0.00           1\n",
       "1      18.0    66.66           8\n",
       "2      36.0    88.99           7\n",
       "3      54.0   105.16           7\n",
       "4      72.0   118.55           6\n",
       "5      90.0   130.38           6\n",
       "6     108.0   141.21           5\n",
       "7     126.0   151.38           5\n",
       "8     144.0   161.14           5\n",
       "9     162.0   170.63           4\n",
       "10    180.0   180.00           1\n",
       "11    198.0   189.37           4\n",
       "12    216.0   198.86           5\n",
       "13    234.0   208.62           5\n",
       "14    252.0   218.79           5\n",
       "15    270.0   229.62           6\n",
       "16    288.0   241.45           6\n",
       "17    306.0   254.84           7\n",
       "18    324.0   271.01           7\n",
       "19    342.0   293.34           8\n",
       "20    360.0   360.00           1"
      ]
     },
     "metadata": {},
     "execution_count": 4
    }
   ],
   "metadata": {}
  },
  {
   "cell_type": "markdown",
   "source": [
    "### b) Time histories"
   ],
   "metadata": {}
  },
  {
   "cell_type": "code",
   "execution_count": 5,
   "source": [
    "Per_s = 2*np.pi/np.sqrt(SS.loc['Earth','miu'] / a**3)\r\n",
    "time = np.linspace(0,Per_s,200)\r\n",
    "M_t = np.sqrt(SS.loc['Earth','miu'] / a**3)*time\r\n",
    "E_t = np.array([kp.E_M(m, e, acc = 10**-12) for m in M_t])\r\n",
    "theta_st_t =  2*np.arctan( np.sqrt((1+e)/(1-e)) * np.tan(E_t/2) )\r\n"
   ],
   "outputs": [],
   "metadata": {}
  },
  {
   "cell_type": "code",
   "execution_count": 6,
   "source": [
    "fig, ax = plt.subplots(nrows=3, ncols=1, figsize=(10,11))\r\n",
    "\r\n",
    "ax[0].plot(time, np.rad2deg(M_t))\r\n",
    "ax[0].set_title('Mean Anomaly')\r\n",
    "\r\n",
    "ax[1].plot(time, np.rad2deg(E_t))\r\n",
    "ax[1].set_title('Eccentric Anomaly')\r\n",
    "\r\n",
    "ax[2].plot(time, np.rad2deg(kp.wrapto2pi(theta_st_t)))\r\n",
    "ax[2].set_title('True Anomaly')\r\n",
    "\r\n",
    "plt.suptitle('Various Angles Progression over time')\r\n",
    "plt.xlabel('Time [s]')"
   ],
   "outputs": [
    {
     "output_type": "execute_result",
     "data": {
      "text/plain": [
       "Text(0.5, 0, 'Time [s]')"
      ]
     },
     "metadata": {},
     "execution_count": 6
    },
    {
     "output_type": "display_data",
     "data": {
      "image/png": "[encoded data removed]",
      "text/plain": [
       "<Figure size 720x792 with 3 Axes>"
      ]
     },
     "metadata": {
      "needs_background": "light"
     }
    }
   ],
   "metadata": {}
  }
 ],
 "metadata": {
  "orig_nbformat": 4,
  "language_info": {
   "name": "python",
   "version": "3.9.7",
   "mimetype": "text/x-python",
   "codemirror_mode": {
    "name": "ipython",
    "version": 3
   },
   "pygments_lexer": "ipython3",
   "nbconvert_exporter": "python",
   "file_extension": ".py"
  },
  "kernelspec": {
   "name": "python3",
   "display_name": "Python 3.9.7 64-bit (windows store)"
  },
  "interpreter": {
   "hash": "992be081e26f37b6ab964febf09ff52cfb4040396eba6f24146958eb15544b29"
  }
 },
 "nbformat": 4,
 "nbformat_minor": 2
}