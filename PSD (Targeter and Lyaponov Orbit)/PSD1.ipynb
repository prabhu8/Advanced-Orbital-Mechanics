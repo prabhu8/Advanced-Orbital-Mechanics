{
 "cells": [
  {
   "cell_type": "markdown",
   "source": [
    "# State Transition Matrix\r\n",
    "\r\n",
    "## Given:\r\n",
    "Earth-Moon system and position and velocity.\r\n",
    "$$\\vec{r} = 0.488 \\hat{x} + 0.2 \\hat{y}$$\r\n",
    "$$\\vec{v} = -0.88\\hat{x} + 0.2\\hat{y}$$\r\n",
    "\r\n",
    "## Find:\r\n",
    "a) The IC in dimensional units\r\n",
    "\r\n",
    "b) i. Simulate trajectory until it crosses the x-axis. Include a 4x4 $\\phi$. Time dimensional and non-dimensional? $\\phi$ at $t_f$\r\n",
    "\r\n",
    "ii. Check $\\phi_{13}$, $\\phi_{23}$, $\\phi_{42}$, and $\\phi_{14}$. Use these this to predict the final state. Estimate the change in $x_f$ as a result of +1% $\\dot{y}_0$ in km/s\r\n",
    "\r\n",
    "c) Define $\\delta \\vec{r}_0 = \\begin{pmatrix} \\delta x_0 \\\\ \\delta y_0 \\end{pmatrix}$ and $\\delta \\vec{v}_0 = \\begin{pmatrix} \\delta \\dot{x}_0 \\\\ \\delta \\dot{y}_0 \\end{pmatrix}$. Change IC to investgate input. \r\n",
    "\r\n",
    "i) Case 1 is:\r\n",
    "$$ \\delta x_0 = 1\\% \\text{ of } x_0 $$\r\n",
    "\r\n",
    "$$\\delta y_0 = \\delta \\dot{x}_0 = \\delta \\dot{y}_0 = \\delta \\dot{t}_f = 0$$\r\n",
    "\r\n",
    "ii) Case 2 is:\r\n",
    "$$ \\delta \\dot{y}_0 = 1 \\% \\text{ of } \\dot{y}_0 $$\r\n",
    "\r\n",
    "$$\\delta x_0 = \\delta y_0 = \\delta \\dot{x}_0 = \\delta \\dot{t}_f = 0$$\r\n"
   ],
   "metadata": {}
  },
  {
   "cell_type": "code",
   "execution_count": 8,
   "source": [
    "# Import Functions and basic infor\r\n",
    "import sys\r\n",
    "sys.path.append('../')\r\n",
    "from Functions.Universe import Solar_3 as SS3\r\n",
    "from Functions import Keplarian_fnc as kp\r\n",
    "from Functions import Poincare_fnc as pn\r\n",
    "import numpy as np\r\n",
    "import pandas as pd\r\n",
    "import matplotlib.pyplot as plt\r\n",
    "from scipy.integrate import solve_ivp\r\n"
   ],
   "outputs": [],
   "metadata": {}
  },
  {
   "cell_type": "code",
   "execution_count": 9,
   "source": [
    "r_vec = np.array([0.488, 0.2, 0])\r\n",
    "v_vec = np.array([-0.88, 0.2, 0])\r\n",
    "\r\n",
    "system = \"Earth-Moon\""
   ],
   "outputs": [],
   "metadata": {}
  },
  {
   "cell_type": "markdown",
   "source": [
    "## Part a)"
   ],
   "metadata": {}
  },
  {
   "cell_type": "code",
   "execution_count": 4,
   "source": [
    "r_vec_dim = pn.L_2_dim(r_vec, SS3.loc[system, 'l*'])\r\n",
    "v_vec_dim = v_vec * SS3.loc[system, 'l*']/ SS3.loc[system, 't*']\r\n",
    "\r\n",
    "print('Starting position in the rotating frame (km): ', r_vec_dim)\r\n",
    "print('Starting velocity in the rotating frame (km/s): ', v_vec_dim)"
   ],
   "outputs": [
    {
     "output_type": "stream",
     "name": "stdout",
     "text": [
      "Starting position in the rotating frame (km):  [187587.2  76880.       0. ]\n",
      "Starting velocity in the rotating frame (km/s):  [-0.90160123  0.20490937  0.        ]\n"
     ]
    }
   ],
   "metadata": {}
  },
  {
   "cell_type": "markdown",
   "source": [
    "### Part b)"
   ],
   "metadata": {}
  },
  {
   "cell_type": "code",
   "execution_count": 5,
   "source": [
    "IC = np.append(r_vec, v_vec)\r\n",
    "IC = np.append(IC,  np.eye(6).reshape((36,)))\r\n",
    "t_span = [0, 10]\r\n",
    "\r\n",
    "def event(t,x):\r\n",
    "    return x[1]\r\n",
    "\r\n",
    "event.direction = 0\r\n",
    "event.terminal = True\r\n",
    "\r\n",
    "traj = solve_ivp(lambda t, x: pn.cr3bp_df(t, x, SS3.loc[system,'miu'], phi=True), t_span , IC, method='RK45', \r\n",
    "                 rtol=10**-12, atol=10**-16, events=event)\r\n",
    "\r\n",
    "fig, axs = plt.subplots(nrows=1, ncols=1, figsize=(7,7))\r\n",
    "axs.plot(traj.y[0,:], traj.y[1,:], label='Trajectory')\r\n",
    "axs.scatter(-SS3.loc[system, 'miu'],0, marker = 'o', color='blue', label='Earth')\r\n",
    "axs.scatter(1-SS3.loc[system, 'miu'],0, marker='o', color='grey', label='Moon')\r\n",
    "axs.scatter(traj.y[0,0], traj.y[1,0], marker='^', label=\"start\")\r\n",
    "axs.scatter(traj.y[0,-1], traj.y[1,-1], marker='v', label=\"end\")\r\n",
    "axs.set_ylim([-.5,.5])\r\n",
    "axs.set_aspect('equal', 'box')\r\n",
    "axs.set_title('Trajectory Terminated when Crossing x-axis')\r\n",
    "axs.legend()\r\n",
    "\r\n",
    "phi = traj.y[6:,-1].reshape((6,6))\r\n",
    "phi_2d = phi[[0,1,3,4], :][:, [0,1,3,4]]\r\n",
    "\r\n",
    "col_name = ['x_0','y_0','x_dot_0', 'y_dot_0']\r\n",
    "row_name = ['x_f','y_f','x_dot_f', 'y_dot_f']\r\n",
    "df_phi_2d = pd.DataFrame(phi_2d, columns=col_name, index=row_name)\r\n",
    "\r\n",
    "t_end = traj.t[-1]"
   ],
   "outputs": [
    {
     "output_type": "display_data",
     "data": {
      "image/png": "[encoded data removed]",
      "text/plain": [
       "<Figure size 504x504 with 1 Axes>"
      ]
     },
     "metadata": {
      "needs_background": "light"
     }
    }
   ],
   "metadata": {}
  },
  {
   "cell_type": "code",
   "execution_count": 6,
   "source": [
    "delta = [0,0,0,0.01]\r\n",
    "x_f_phi = traj.y[0,-1] + np.dot(df_phi_2d.loc['x_f'],delta)\r\n",
    "\r\n",
    "IC = np.append(r_vec, v_vec) + [0, 0, 0, 0, 0.01, 0]\r\n",
    "IC = np.append(IC,  np.eye(6).reshape((36,)))\r\n",
    "\r\n",
    "t_span = [0, t_end]\r\n",
    "\r\n",
    "traj2 = solve_ivp(lambda t, x: pn.cr3bp_df(t, x, SS3.loc[system,'miu'], phi=True), t_span , IC, method='RK45', \r\n",
    "                 rtol=10**-12, atol=10**-16)\r\n",
    "\r\n",
    "print('Change x final due to change in intial velocity determined by phi', round(x_f_phi,4))\r\n",
    "print('Change x final due to change in intial velocity integration', round(traj2.y[0,-1],4))"
   ],
   "outputs": [
    {
     "output_type": "stream",
     "name": "stdout",
     "text": [
      "Change x final due to change in intial velocity determined by phi -0.2509\n",
      "Change x final due to change in intial velocity integration -0.2506\n"
     ]
    }
   ],
   "metadata": {}
  },
  {
   "cell_type": "markdown",
   "source": [
    "### Part c)"
   ],
   "metadata": {}
  },
  {
   "cell_type": "code",
   "execution_count": 24,
   "source": [
    "delta = np.array([0.01, 0, 0, 0, 0, 0])\r\n",
    "x_f_phi = traj.y[:6,-1] + phi @ delta\r\n",
    "\r\n",
    "IC = np.append(r_vec, v_vec) + delta\r\n",
    "IC = np.append(IC,  np.eye(6).reshape((36,)))\r\n",
    "\r\n",
    "traj2 = solve_ivp(lambda t, x: pn.cr3bp_df(t, x, SS3.loc[system,'miu'], phi=True), t_span , IC, method='RK45', \r\n",
    "                 rtol=10**-12, atol=10**-16)\r\n",
    "\r\n",
    "print('Change in final Position: ')\r\n",
    "print('Change final postions due to change in intial position determined by phi', \r\n",
    "      np.round(pn.L_2_dim(x_f_phi[:3],SS3.loc[system,'l*'])))\r\n",
    "print('Change final postions due to change in intial position integration', \r\n",
    "      np.round(traj2.y[:3,-1]*SS3.loc[system,'l*']))\r\n",
    "\r\n",
    "print('\\nChange in final Velocity: ')\r\n",
    "print('Due to change in intial position determined by phi', \r\n",
    "      np.round(pn.L_2_dim(x_f_phi[3:6],SS3.loc[system,'l*'])/SS3.loc[system,'l*'], 3))\r\n",
    "print('Due to change in intial position integration', \r\n",
    "      np.round(traj2.y[3:6,-1]*SS3.loc[system,'l*']/SS3.loc[system,'t*'], 3))\r\n"
   ],
   "outputs": [
    {
     "output_type": "stream",
     "name": "stdout",
     "text": [
      "Change in final Position: \n",
      "Change final postions due to change in intial velocity determined by phi [-95580.  16160.      0.]\n",
      "Change final postions due to change in intial velocity integration [-94566.  15914.      0.]\n",
      "\n",
      "Change in final Velocity: \n",
      "Due to change in intial velocity determined by phi [-1.075 -2.058  0.   ]\n",
      "Due to change in intial velocity integration [-1.091 -2.085  0.   ]\n"
     ]
    }
   ],
   "metadata": {}
  },
  {
   "cell_type": "code",
   "execution_count": 25,
   "source": [
    "delta = np.array([0, 0, 0, 0, 0.01, 0])\r\n",
    "x_f_phi = traj.y[:6,-1] + phi @ delta\r\n",
    "\r\n",
    "IC = np.append(r_vec, v_vec) + delta\r\n",
    "IC = np.append(IC,  np.eye(6).reshape((36,)))\r\n",
    "\r\n",
    "traj2 = solve_ivp(lambda t, x: pn.cr3bp_df(t, x, SS3.loc[system,'miu'], phi=True), t_span , IC, method='RK45', \r\n",
    "                 rtol=10**-12, atol=10**-16)\r\n",
    "\r\n",
    "print('Change in final Position: ')\r\n",
    "print('Change final postions due to change in intial velocity determined by phi', \r\n",
    "      np.round(pn.L_2_dim(x_f_phi[:3],SS3.loc[system,'l*'])))\r\n",
    "print('Change final postions due to change in intial velocity integration', \r\n",
    "      np.round(traj2.y[:3,-1]*SS3.loc[system,'l*']))\r\n",
    "\r\n",
    "print('\\nChange in final Velocity: ')\r\n",
    "print('Due to change in intial velocity determined by phi', \r\n",
    "      np.round(pn.L_2_dim(x_f_phi[3:6],SS3.loc[system,'l*'])/SS3.loc[system,'l*'], 3))\r\n",
    "print('Due to change in intial velocity integration', \r\n",
    "      np.round(traj2.y[3:6,-1]*SS3.loc[system,'l*']/SS3.loc[system,'t*'], 3))\r\n"
   ],
   "outputs": [
    {
     "output_type": "stream",
     "name": "stdout",
     "text": [
      "Change in final Position: \n",
      "Change final postions due to change in intial velocity determined by phi [-96430.   5421.      0.]\n",
      "Change final postions due to change in intial velocity integration [-96330.   5403.      0.]\n",
      "\n",
      "Change in final Velocity: \n",
      "Due to change in intial velocity determined by phi [-0.888 -2.099  0.   ]\n",
      "Due to change in intial velocity integration [-0.908 -2.148  0.   ]\n"
     ]
    }
   ],
   "metadata": {}
  }
 ],
 "metadata": {
  "orig_nbformat": 4,
  "language_info": {
   "name": "python",
   "version": "3.9.7",
   "mimetype": "text/x-python",
   "codemirror_mode": {
    "name": "ipython",
    "version": 3
   },
   "pygments_lexer": "ipython3",
   "nbconvert_exporter": "python",
   "file_extension": ".py"
  },
  "kernelspec": {
   "name": "python3",
   "display_name": "Python 3.9.7 64-bit (windows store)"
  },
  "interpreter": {
   "hash": "992be081e26f37b6ab964febf09ff52cfb4040396eba6f24146958eb15544b29"
  }
 },
 "nbformat": 4,
 "nbformat_minor": 2
}