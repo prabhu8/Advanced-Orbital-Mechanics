{
 "cells": [
  {
   "cell_type": "markdown",
   "source": [
    "# Introduction to Monodromy Matrix\r\n",
    "## Given:\r\n",
    "You are at a perturbation on $L_1$ at $\\xi = 0.01$ and $\\eta=0$ for the Earth-Moon system\r\n",
    "\r\n",
    "## Find:\r\n",
    "a) Eigenvalues and eigenvectors matrix asscociated with the orbit, are they real or complex?\r\n",
    "\r\n",
    "b) Find the Lyaponav orbit (5 orbits)\r\n",
    "\r\n",
    "i) Eigenvalues for all of the monodromy matrix. What is the x_0 step size? Why? Plot all orbits.\r\n",
    "\r\n",
    "ii) Plot $\\dot{y}_0$ as a function of $\\dot{x}_0$. Is teh curve smooth with continuous derivatives? Could you predict with more effieciency?\r\n",
    "\r\n",
    "iii) Plot period and IC as a funtion of $x_0$"
   ],
   "metadata": {}
  },
  {
   "cell_type": "code",
   "execution_count": null,
   "source": [],
   "outputs": [],
   "metadata": {}
  }
 ],
 "metadata": {
  "orig_nbformat": 4,
  "language_info": {
   "name": "python",
   "version": "3.9.7"
  },
  "kernelspec": {
   "name": "python3",
   "display_name": "Python 3.9.7 64-bit (windows store)"
  },
  "interpreter": {
   "hash": "992be081e26f37b6ab964febf09ff52cfb4040396eba6f24146958eb15544b29"
  }
 },
 "nbformat": 4,
 "nbformat_minor": 2
}